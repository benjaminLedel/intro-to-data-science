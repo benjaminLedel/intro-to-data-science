{
 "cells": [
  {
   "cell_type": "markdown",
   "metadata": {},
   "source": [
    "# Classification\n",
    "\n",
    "With this exercise, you can learn more about classification. You can try out the algorithms on a data set and compare the performance of the different classifiers with different performance metrics.\n",
    "\n",
    "Please note that the biggest challenge of this exercise is to select good *hyper parameters* of the algorithms, e.g., tree depths, activation functions, etc. The performance of the algorithms depends on this. In the bonus task, you can see that this can quickly consume huge amounts of computational capacity. "
   ]
  },
  {
   "cell_type": "markdown",
   "metadata": {},
   "source": [
    "## Libraries and Data\n",
    "\n",
    "Your task in this exercise is pretty straight forward: apply different classification algorithms to a data set, evaluate the results, and determine the best algorithm. You can find everything you need in ```sklearn```. We use [data about dominant types of trees in forests](https://scikit-learn.org/stable/modules/generated/sklearn.datasets.fetch_covtype.html#sklearn.datasets.fetch_covtype) in this exercise.\n",
    "\n",
    "We start by loading the data an importing the libraries we require. We also print the description of the data. "
   ]
  },
  {
   "cell_type": "code",
   "execution_count": 3,
   "metadata": {},
   "outputs": [
    {
     "name": "stdout",
     "output_type": "stream",
     "text": [
      ".. _covtype_dataset:\n",
      "\n",
      "Forest covertypes\n",
      "-----------------\n",
      "\n",
      "The samples in this dataset correspond to 30×30m patches of forest in the US,\n",
      "collected for the task of predicting each patch's cover type,\n",
      "i.e. the dominant species of tree.\n",
      "There are seven covertypes, making this a multiclass classification problem.\n",
      "Each sample has 54 features, described on the\n",
      "`dataset's homepage <https://archive.ics.uci.edu/ml/datasets/Covertype>`__.\n",
      "Some of the features are boolean indicators,\n",
      "while others are discrete or continuous measurements.\n",
      "\n",
      "**Data Set Characteristics:**\n",
      "\n",
      "    =================   ============\n",
      "    Classes                        7\n",
      "    Samples total             581012\n",
      "    Dimensionality                54\n",
      "    Features                     int\n",
      "    =================   ============\n",
      "\n",
      ":func:`sklearn.datasets.fetch_covtype` will load the covertype dataset;\n",
      "it returns a dictionary-like object\n",
      "with the feature matrix in the ``data`` member\n",
      "and the target values in ``target``.\n",
      "The dataset will be downloaded from the web if necessary.\n",
      "\n"
     ]
    }
   ],
   "source": [
    "import pandas as pd\n",
    "import matplotlib.pyplot as plt\n",
    "\n",
    "from sklearn.datasets import fetch_covtype\n",
    "from sklearn.metrics import precision_recall_fscore_support,matthews_corrcoef\n",
    "from sklearn.model_selection import train_test_split\n",
    "\n",
    "from sklearn.neural_network import MLPClassifier\n",
    "from sklearn.neighbors import KNeighborsClassifier\n",
    "from sklearn.svm import SVC\n",
    "from sklearn.tree import DecisionTreeClassifier\n",
    "from sklearn.ensemble import RandomForestClassifier\n",
    "from sklearn.naive_bayes import GaussianNB\n",
    "from sklearn.linear_model import LogisticRegression\n",
    "\n",
    "forests = fetch_covtype()\n",
    "X = forests.data\n",
    "Y = forests.target\n",
    "\n",
    "print(forests.DESCR)"
   ]
  },
  {
   "cell_type": "markdown",
   "metadata": {},
   "source": [
    "We now take a rudimentary look at the data. Most importantly, we check if there is class level imbalance or if each class is represented the same in the available data. "
   ]
  },
  {
   "cell_type": "code",
   "execution_count": 5,
   "metadata": {},
   "outputs": [
    {
     "data": {
      "image/png": "[encoded data removed]",
      "text/plain": [
       "<Figure size 432x288 with 1 Axes>"
      ]
     },
     "metadata": {
      "needs_background": "light"
     },
     "output_type": "display_data"
    }
   ],
   "source": [
    "plt.figure()\n",
    "plt.hist(Y)\n",
    "plt.ylabel('#instances')\n",
    "plt.xlabel('class')\n",
    "plt.show()"
   ]
  },
  {
   "cell_type": "markdown",
   "metadata": {},
   "source": [
    "## Training and test data\n",
    "\n",
    "Before you can start building classifiers, you need to separate the data into training and test data. Because the data is quite large, please use 5% of the data for training, and 95% of the data for testing. Because you are selecting such a small subset, it could easily happen that not all classes are represented the same way in the training and in the test data. Use _stratified sampling_ to avoid this. "
   ]
  },
  {
   "cell_type": "code",
   "execution_count": 7,
   "metadata": {},
   "outputs": [],
   "source": [
    "X_train, X_test, Y_train, Y_test = train_test_split(X, Y, test_size=0.95, random_state=42, stratify=Y)"
   ]
  },
  {
   "cell_type": "markdown",
   "metadata": {},
   "source": [
    "We check the distribution of the class labels in the training data to ensure that the stratification had the desired effect. "
   ]
  },
  {
   "cell_type": "code",
   "execution_count": 8,
   "metadata": {},
   "outputs": [
    {
     "data": {
      "image/png": "[encoded data removed]",
      "text/plain": [
       "<Figure size 432x288 with 1 Axes>"
      ]
     },
     "metadata": {
      "needs_background": "light"
     },
     "output_type": "display_data"
    }
   ],
   "source": [
    "plt.figure()\n",
    "plt.hist(Y_train)\n",
    "plt.ylabel('#instances')\n",
    "plt.xlabel('class')\n",
    "plt.show()"
   ]
  },
  {
   "cell_type": "markdown",
   "metadata": {},
   "source": [
    "## Train, Test, Evaluate\n",
    "\n",
    "Now that training and test data are available, you can try out the classifiers from Chapter 7. You will notice that some classifiers may require a long amount of time for training and may, therefore, not be suitable for the analysis of this data set. \n",
    "\n",
    "Try to find a classifier that works well with the data. On this data, this means two things:\n",
    "- Training and prediction in an acceptable amount of time. Use \"less than 10 minutes\" as definition for acceptable on this exercise sheet.\n",
    "- Good prediction performance as measured with MCC, recall, precision, and F-Measure. \n",
    "\n",
    "The different classifiers have different parameters, also known as *hyper parameters*, e.g., the depth of a tree, or the number of trees used by a random forest. Try to find good parameters to improve the results. \n",
    "\n",
    "We train a $k$-Nearest Neighbors Classifier with $k=3, 5, 10$, Decision Trees with maximal depths 5, 10, and 20, Random Forests with 1000 trees in the ensemble that have maximal depth of 3 and 5, a Logistic Regression classifier, a Gaussian Naive Bayes, and MLPs with three hidden layers with 100 neurons with RelU and tanh as activation functions. Thus, we test some parameter combinations that affect the complexity of the resulting models. We do not train any SVM, because the training time is larger than 10 minutes. "
   ]
  },
  {
   "cell_type": "code",
   "execution_count": 9,
   "metadata": {},
   "outputs": [
    {
     "name": "stdout",
     "output_type": "stream",
     "text": [
      "fitting classifier Nearest Neighbors (k=3)\n",
      "predicting labels for classifier Nearest Neighbors (k=3)\n",
      "fitting classifier Nearest Neighbors (k=5)\n",
      "predicting labels for classifier Nearest Neighbors (k=5)\n",
      "fitting classifier Nearest Neighbors (k=10)\n",
      "predicting labels for classifier Nearest Neighbors (k=10)\n",
      "fitting classifier Decision Tree (Max Depth=5)\n",
      "predicting labels for classifier Decision Tree (Max Depth=5)\n",
      "fitting classifier Decision Tree (Max Depth=10)\n",
      "predicting labels for classifier Decision Tree (Max Depth=10)\n",
      "fitting classifier Decision Tree (Max Depth=20)\n",
      "predicting labels for classifier Decision Tree (Max Depth=20)\n",
      "fitting classifier Random Forest (Max Depth=3)\n",
      "predicting labels for classifier Random Forest (Max Depth=3)\n"
     ]
    },
    {
     "name": "stderr",
     "output_type": "stream",
     "text": [
      "/usr/local/lib/python3.6/dist-packages/sklearn/metrics/_classification.py:1221: UndefinedMetricWarning: Precision and F-score are ill-defined and being set to 0.0 in labels with no predicted samples. Use `zero_division` parameter to control this behavior.\n",
      "  _warn_prf(average, modifier, msg_start, len(result))\n"
     ]
    },
    {
     "name": "stdout",
     "output_type": "stream",
     "text": [
      "fitting classifier Random Forest (Max Depth=5)\n",
      "predicting labels for classifier Random Forest (Max Depth=5)\n"
     ]
    },
    {
     "name": "stderr",
     "output_type": "stream",
     "text": [
      "/usr/local/lib/python3.6/dist-packages/sklearn/metrics/_classification.py:1221: UndefinedMetricWarning: Precision and F-score are ill-defined and being set to 0.0 in labels with no predicted samples. Use `zero_division` parameter to control this behavior.\n",
      "  _warn_prf(average, modifier, msg_start, len(result))\n"
     ]
    },
    {
     "name": "stdout",
     "output_type": "stream",
     "text": [
      "fitting classifier Logistic Regression\n"
     ]
    },
    {
     "name": "stderr",
     "output_type": "stream",
     "text": [
      "/usr/local/lib/python3.6/dist-packages/sklearn/linear_model/_logistic.py:764: ConvergenceWarning: lbfgs failed to converge (status=1):\n",
      "STOP: TOTAL NO. of f AND g EVALUATIONS EXCEEDS LIMIT.\n",
      "\n",
      "Increase the number of iterations (max_iter) or scale the data as shown in:\n",
      "    https://scikit-learn.org/stable/modules/preprocessing.html\n",
      "Please also refer to the documentation for alternative solver options:\n",
      "    https://scikit-learn.org/stable/modules/linear_model.html#logistic-regression\n",
      "  extra_warning_msg=_LOGISTIC_SOLVER_CONVERGENCE_MSG)\n"
     ]
    },
    {
     "name": "stdout",
     "output_type": "stream",
     "text": [
      "predicting labels for classifier Logistic Regression\n",
      "fitting classifier Gaussian Naive Bayes\n",
      "predicting labels for classifier Gaussian Naive Bayes\n",
      "fitting classifier MLP (RelU)\n",
      "predicting labels for classifier MLP (RelU)\n",
      "fitting classifier MLP (tanh)\n",
      "predicting labels for classifier MLP (tanh)\n"
     ]
    }
   ],
   "source": [
    "classifiers = [KNeighborsClassifier(3),\n",
    "               KNeighborsClassifier(5),\n",
    "               KNeighborsClassifier(10),\n",
    "               DecisionTreeClassifier(max_depth=5),\n",
    "               DecisionTreeClassifier(max_depth=10),\n",
    "               DecisionTreeClassifier(max_depth=20),\n",
    "               RandomForestClassifier(n_estimators=1000, max_depth=3),\n",
    "               RandomForestClassifier(n_estimators=1000, max_depth=5),\n",
    "               LogisticRegression(max_iter=100000),\n",
    "               GaussianNB(),\n",
    "               MLPClassifier(hidden_layer_sizes=(100, 100, 100),\n",
    "                             max_iter=10000, activation='relu'),\n",
    "               MLPClassifier(hidden_layer_sizes=(100, 100, 100),\n",
    "                             max_iter=10000, activation='tanh')]\n",
    "\n",
    "clf_names = [\"Nearest Neighbors (k=3)\",\n",
    "             \"Nearest Neighbors (k=5)\",\n",
    "             \"Nearest Neighbors (k=10)\",\n",
    "             \"Decision Tree (Max Depth=5)\",\n",
    "             \"Decision Tree (Max Depth=10)\",\n",
    "             \"Decision Tree (Max Depth=20)\",\n",
    "             \"Random Forest (Max Depth=3)\",\n",
    "             \"Random Forest (Max Depth=5)\",\n",
    "             \"Logistic Regression\",\n",
    "             \"Gaussian Naive Bayes\",\n",
    "             \"MLP (RelU)\",\n",
    "             \"MLP (tanh)\"]\n",
    "\n",
    "scores_micro = dict()\n",
    "scores_macro = dict()\n",
    "scores_mcc = dict()\n",
    "for name, clf in zip(clf_names, classifiers):\n",
    "    print(\"fitting classifier\", name)\n",
    "    clf.fit(X_train, Y_train)\n",
    "    print(\"predicting labels for classifier\", name)\n",
    "    Y_pred = clf.predict(X_test)\n",
    "    scores_micro[name] = precision_recall_fscore_support(\n",
    "        Y_test, Y_pred, average=\"micro\")\n",
    "    scores_macro[name] = precision_recall_fscore_support(\n",
    "        Y_test, Y_pred, average=\"macro\")\n",
    "    scores_mcc[name] = matthews_corrcoef(Y_test, Y_pred)\n",
    "\n",
    "scores_micro_df = pd.DataFrame(scores_micro, index=[\n",
    "                               'precision (micro)', 'recall (micro)', 'fscore (micro)', 'support'])\n",
    "scores_micro_df = scores_micro_df[0:3]  # drop support\n",
    "scores_macro_df = pd.DataFrame(scores_macro, index=[\n",
    "                               'precision (macro)', 'recall (macro)', 'fscore (macro)', 'support'])\n",
    "scores_macro_df = scores_macro_df[0:3]\n",
    "scores_df = scores_macro_df.append(scores_micro_df).append(\n",
    "    pd.Series(scores_mcc, name='MCC'))"
   ]
  },
  {
   "cell_type": "markdown",
   "metadata": {},
   "source": [
    "We now look at the scores."
   ]
  },
  {
   "cell_type": "code",
   "execution_count": 31,
   "metadata": {},
   "outputs": [
    {
     "data": {
      "text/html": [
       "<div>\n",
       "<style scoped>\n",
       "    .dataframe tbody tr th:only-of-type {\n",
       "        vertical-align: middle;\n",
       "    }\n",
       "\n",
       "    .dataframe tbody tr th {\n",
       "        vertical-align: top;\n",
       "    }\n",
       "\n",
       "    .dataframe thead th {\n",
       "        text-align: right;\n",
       "    }\n",
       "</style>\n",
       "<table border=\"1\" class=\"dataframe\">\n",
       "  <thead>\n",
       "    <tr style=\"text-align: right;\">\n",
       "      <th></th>\n",
       "      <th>Nearest Neighbors (k=3)</th>\n",
       "      <th>Nearest Neighbors (k=5)</th>\n",
       "      <th>Nearest Neighbors (k=10)</th>\n",
       "      <th>Decision Tree (Max Depth=5)</th>\n",
       "      <th>Decision Tree (Max Depth=10)</th>\n",
       "      <th>Decision Tree (Max Depth=20)</th>\n",
       "      <th>Random Forest (Max Depth=3)</th>\n",
       "      <th>Random Forest (Max Depth=5)</th>\n",
       "      <th>Logistic Regression</th>\n",
       "      <th>Gaussian Naive Bayes</th>\n",
       "      <th>MLP (RelU)</th>\n",
       "      <th>MLP (tanh)</th>\n",
       "    </tr>\n",
       "  </thead>\n",
       "  <tbody>\n",
       "    <tr>\n",
       "      <th>precision (macro)</th>\n",
       "      <td>0.791443</td>\n",
       "      <td>0.783250</td>\n",
       "      <td>0.771295</td>\n",
       "      <td>0.639873</td>\n",
       "      <td>0.716850</td>\n",
       "      <td>0.723114</td>\n",
       "      <td>0.279480</td>\n",
       "      <td>0.279673</td>\n",
       "      <td>0.532170</td>\n",
       "      <td>0.382979</td>\n",
       "      <td>0.769944</td>\n",
       "      <td>0.576269</td>\n",
       "    </tr>\n",
       "    <tr>\n",
       "      <th>recall (macro)</th>\n",
       "      <td>0.717409</td>\n",
       "      <td>0.680059</td>\n",
       "      <td>0.593828</td>\n",
       "      <td>0.461665</td>\n",
       "      <td>0.606345</td>\n",
       "      <td>0.693489</td>\n",
       "      <td>0.274127</td>\n",
       "      <td>0.301216</td>\n",
       "      <td>0.426783</td>\n",
       "      <td>0.582227</td>\n",
       "      <td>0.663174</td>\n",
       "      <td>0.374119</td>\n",
       "    </tr>\n",
       "    <tr>\n",
       "      <th>fscore (macro)</th>\n",
       "      <td>0.749952</td>\n",
       "      <td>0.722707</td>\n",
       "      <td>0.653111</td>\n",
       "      <td>0.472032</td>\n",
       "      <td>0.639261</td>\n",
       "      <td>0.706874</td>\n",
       "      <td>0.273517</td>\n",
       "      <td>0.289963</td>\n",
       "      <td>0.455168</td>\n",
       "      <td>0.348337</td>\n",
       "      <td>0.697845</td>\n",
       "      <td>0.397133</td>\n",
       "    </tr>\n",
       "    <tr>\n",
       "      <th>precision (micro)</th>\n",
       "      <td>0.845881</td>\n",
       "      <td>0.831650</td>\n",
       "      <td>0.803552</td>\n",
       "      <td>0.704661</td>\n",
       "      <td>0.755717</td>\n",
       "      <td>0.796053</td>\n",
       "      <td>0.664439</td>\n",
       "      <td>0.679398</td>\n",
       "      <td>0.708431</td>\n",
       "      <td>0.447357</td>\n",
       "      <td>0.805179</td>\n",
       "      <td>0.696369</td>\n",
       "    </tr>\n",
       "    <tr>\n",
       "      <th>recall (micro)</th>\n",
       "      <td>0.845881</td>\n",
       "      <td>0.831650</td>\n",
       "      <td>0.803552</td>\n",
       "      <td>0.704661</td>\n",
       "      <td>0.755717</td>\n",
       "      <td>0.796053</td>\n",
       "      <td>0.664439</td>\n",
       "      <td>0.679398</td>\n",
       "      <td>0.708431</td>\n",
       "      <td>0.447357</td>\n",
       "      <td>0.805179</td>\n",
       "      <td>0.696369</td>\n",
       "    </tr>\n",
       "    <tr>\n",
       "      <th>fscore (micro)</th>\n",
       "      <td>0.845881</td>\n",
       "      <td>0.831650</td>\n",
       "      <td>0.803552</td>\n",
       "      <td>0.704661</td>\n",
       "      <td>0.755717</td>\n",
       "      <td>0.796053</td>\n",
       "      <td>0.664439</td>\n",
       "      <td>0.679398</td>\n",
       "      <td>0.708431</td>\n",
       "      <td>0.447357</td>\n",
       "      <td>0.805179</td>\n",
       "      <td>0.696369</td>\n",
       "    </tr>\n",
       "    <tr>\n",
       "      <th>MCC</th>\n",
       "      <td>0.750438</td>\n",
       "      <td>0.726275</td>\n",
       "      <td>0.678803</td>\n",
       "      <td>0.513247</td>\n",
       "      <td>0.600747</td>\n",
       "      <td>0.670790</td>\n",
       "      <td>0.425586</td>\n",
       "      <td>0.458928</td>\n",
       "      <td>0.517158</td>\n",
       "      <td>0.293639</td>\n",
       "      <td>0.680702</td>\n",
       "      <td>0.493616</td>\n",
       "    </tr>\n",
       "  </tbody>\n",
       "</table>\n",
       "</div>"
      ],
      "text/plain": [
       "                   Nearest Neighbors (k=3)  Nearest Neighbors (k=5)  \\\n",
       "precision (macro)                 0.791443                 0.783250   \n",
       "recall (macro)                    0.717409                 0.680059   \n",
       "fscore (macro)                    0.749952                 0.722707   \n",
       "precision (micro)                 0.845881                 0.831650   \n",
       "recall (micro)                    0.845881                 0.831650   \n",
       "fscore (micro)                    0.845881                 0.831650   \n",
       "MCC                               0.750438                 0.726275   \n",
       "\n",
       "                   Nearest Neighbors (k=10)  Decision Tree (Max Depth=5)  \\\n",
       "precision (macro)                  0.771295                     0.639873   \n",
       "recall (macro)                     0.593828                     0.461665   \n",
       "fscore (macro)                     0.653111                     0.472032   \n",
       "precision (micro)                  0.803552                     0.704661   \n",
       "recall (micro)                     0.803552                     0.704661   \n",
       "fscore (micro)                     0.803552                     0.704661   \n",
       "MCC                                0.678803                     0.513247   \n",
       "\n",
       "                   Decision Tree (Max Depth=10)  Decision Tree (Max Depth=20)  \\\n",
       "precision (macro)                      0.716850                      0.723114   \n",
       "recall (macro)                         0.606345                      0.693489   \n",
       "fscore (macro)                         0.639261                      0.706874   \n",
       "precision (micro)                      0.755717                      0.796053   \n",
       "recall (micro)                         0.755717                      0.796053   \n",
       "fscore (micro)                         0.755717                      0.796053   \n",
       "MCC                                    0.600747                      0.670790   \n",
       "\n",
       "                   Random Forest (Max Depth=3)  Random Forest (Max Depth=5)  \\\n",
       "precision (macro)                     0.279480                     0.279673   \n",
       "recall (macro)                        0.274127                     0.301216   \n",
       "fscore (macro)                        0.273517                     0.289963   \n",
       "precision (micro)                     0.664439                     0.679398   \n",
       "recall (micro)                        0.664439                     0.679398   \n",
       "fscore (micro)                        0.664439                     0.679398   \n",
       "MCC                                   0.425586                     0.458928   \n",
       "\n",
       "                   Logistic Regression  Gaussian Naive Bayes  MLP (RelU)  \\\n",
       "precision (macro)             0.532170              0.382979    0.769944   \n",
       "recall (macro)                0.426783              0.582227    0.663174   \n",
       "fscore (macro)                0.455168              0.348337    0.697845   \n",
       "precision (micro)             0.708431              0.447357    0.805179   \n",
       "recall (micro)                0.708431              0.447357    0.805179   \n",
       "fscore (micro)                0.708431              0.447357    0.805179   \n",
       "MCC                           0.517158              0.293639    0.680702   \n",
       "\n",
       "                   MLP (tanh)  \n",
       "precision (macro)    0.576269  \n",
       "recall (macro)       0.374119  \n",
       "fscore (macro)       0.397133  \n",
       "precision (micro)    0.696369  \n",
       "recall (micro)       0.696369  \n",
       "fscore (micro)       0.696369  \n",
       "MCC                  0.493616  "
      ]
     },
     "execution_count": 31,
     "metadata": {},
     "output_type": "execute_result"
    }
   ],
   "source": [
    "scores_df"
   ]
  },
  {
   "cell_type": "markdown",
   "metadata": {},
   "source": [
    "We can see that $k$-Nearest Neighbor yields the best results with $k=3$ and the Decision Tree and Random Forest perform better with larger depths. Morepver RelU works better than the tanh for the MLP. Logistic Regression and Gaussian Naive Bayes are clearly inferior to the best performing approaches. We now re-run the experiement. We drop the Logistic Regression, the inferior combinations of $k$ and Max Depth, and the MLP with tanh. Moreover, we consider lower values for $k$ and larger for the Max Depth, because the results may further improve. Please note that due to this second round of tuning, our *test data* is now *validation data* instead. If you perform additional tuning due to results on the test data even once, this means that you would actually need new test data. "
   ]
  },
  {
   "cell_type": "code",
   "execution_count": 34,
   "metadata": {},
   "outputs": [
    {
     "name": "stdout",
     "output_type": "stream",
     "text": [
      "fitting classifier Nearest Neighbors (k=1)\n",
      "predicting labels for classifier Nearest Neighbors (k=1)\n",
      "fitting classifier Nearest Neighbors (k=2)\n",
      "predicting labels for classifier Nearest Neighbors (k=2)\n",
      "fitting classifier Nearest Neighbors (k=3)\n",
      "predicting labels for classifier Nearest Neighbors (k=3)\n",
      "fitting classifier Decision Tree (Max Depth=20)\n",
      "predicting labels for classifier Decision Tree (Max Depth=20)\n",
      "fitting classifier Decision Tree (Max Depth=40)\n",
      "predicting labels for classifier Decision Tree (Max Depth=40)\n",
      "fitting classifier Decision Tree (Max Depth=60)\n",
      "predicting labels for classifier Decision Tree (Max Depth=60)\n",
      "fitting classifier Random Forest (Max Depth=5)\n",
      "predicting labels for classifier Random Forest (Max Depth=5)\n"
     ]
    },
    {
     "name": "stderr",
     "output_type": "stream",
     "text": [
      "/usr/local/lib/python3.6/dist-packages/sklearn/metrics/_classification.py:1221: UndefinedMetricWarning: Precision and F-score are ill-defined and being set to 0.0 in labels with no predicted samples. Use `zero_division` parameter to control this behavior.\n",
      "  _warn_prf(average, modifier, msg_start, len(result))\n"
     ]
    },
    {
     "name": "stdout",
     "output_type": "stream",
     "text": [
      "fitting classifier Random Forest (Max Depth=10)\n",
      "predicting labels for classifier Random Forest (Max Depth=10)\n",
      "fitting classifier Random Forest (Max Depth=20)\n",
      "predicting labels for classifier Random Forest (Max Depth=20)\n",
      "fitting classifier MLP (RelU)\n",
      "predicting labels for classifier MLP (RelU)\n"
     ]
    }
   ],
   "source": [
    "classifiers = [KNeighborsClassifier(1),\n",
    "               KNeighborsClassifier(2),\n",
    "               KNeighborsClassifier(3),\n",
    "               DecisionTreeClassifier(max_depth=20),\n",
    "               DecisionTreeClassifier(max_depth=40),\n",
    "               DecisionTreeClassifier(max_depth=60),\n",
    "               RandomForestClassifier(n_estimators=1000, max_depth=5),\n",
    "               RandomForestClassifier(n_estimators=1000, max_depth=10),\n",
    "               RandomForestClassifier(n_estimators=1000, max_depth=20),\n",
    "               MLPClassifier(hidden_layer_sizes=(100, 100, 100),\n",
    "                             max_iter=10000, activation='relu')]\n",
    "\n",
    "clf_names = [\"Nearest Neighbors (k=1)\",\n",
    "             \"Nearest Neighbors (k=2)\",\n",
    "             \"Nearest Neighbors (k=3)\",\n",
    "             \"Decision Tree (Max Depth=20)\",\n",
    "             \"Decision Tree (Max Depth=40)\",\n",
    "             \"Decision Tree (Max Depth=60)\",\n",
    "             \"Random Forest (Max Depth=5)\",\n",
    "             \"Random Forest (Max Depth=10)\",\n",
    "             \"Random Forest (Max Depth=20)\",\n",
    "             \"MLP (RelU)\"]\n",
    "\n",
    "scores_micro = dict()\n",
    "scores_macro = dict()\n",
    "scores_mcc = dict()\n",
    "for name, clf in zip(clf_names, classifiers):\n",
    "    print(\"fitting classifier\", name)\n",
    "    clf.fit(X_train, Y_train)\n",
    "    print(\"predicting labels for classifier\", name)\n",
    "    Y_pred = clf.predict(X_test)\n",
    "    scores_micro[name] = precision_recall_fscore_support(\n",
    "        Y_test, Y_pred, average=\"micro\")\n",
    "    scores_macro[name] = precision_recall_fscore_support(\n",
    "        Y_test, Y_pred, average=\"macro\")\n",
    "    scores_mcc[name] = matthews_corrcoef(Y_test, Y_pred)\n",
    "\n",
    "scores_micro_df = pd.DataFrame(scores_micro, index=[\n",
    "                               'precision (micro)', 'recall (micro)', 'fscore (micro)', 'support'])\n",
    "scores_micro_df = scores_micro_df[0:3]  # drop support\n",
    "scores_macro_df = pd.DataFrame(scores_macro, index=[\n",
    "                               'precision (macro)', 'recall (macro)', 'fscore (macro)', 'support'])\n",
    "scores_macro_df = scores_macro_df[0:3]\n",
    "scores_df = scores_macro_df.append(scores_micro_df).append(\n",
    "    pd.Series(scores_mcc, name='MCC'))"
   ]
  },
  {
   "cell_type": "markdown",
   "metadata": {},
   "source": [
    "We now look at the scores to see if the other parameters further improved the scores to see which classifier performs best. "
   ]
  },
  {
   "cell_type": "code",
   "execution_count": 35,
   "metadata": {},
   "outputs": [
    {
     "data": {
      "text/html": [
       "<div>\n",
       "<style scoped>\n",
       "    .dataframe tbody tr th:only-of-type {\n",
       "        vertical-align: middle;\n",
       "    }\n",
       "\n",
       "    .dataframe tbody tr th {\n",
       "        vertical-align: top;\n",
       "    }\n",
       "\n",
       "    .dataframe thead th {\n",
       "        text-align: right;\n",
       "    }\n",
       "</style>\n",
       "<table border=\"1\" class=\"dataframe\">\n",
       "  <thead>\n",
       "    <tr style=\"text-align: right;\">\n",
       "      <th></th>\n",
       "      <th>Nearest Neighbors (k=1)</th>\n",
       "      <th>Nearest Neighbors (k=2)</th>\n",
       "      <th>Nearest Neighbors (k=3)</th>\n",
       "      <th>Decision Tree (Max Depth=20)</th>\n",
       "      <th>Decision Tree (Max Depth=40)</th>\n",
       "      <th>Decision Tree (Max Depth=60)</th>\n",
       "      <th>Random Forest (Max Depth=5)</th>\n",
       "      <th>Random Forest (Max Depth=10)</th>\n",
       "      <th>Random Forest (Max Depth=20)</th>\n",
       "      <th>MLP (RelU)</th>\n",
       "    </tr>\n",
       "  </thead>\n",
       "  <tbody>\n",
       "    <tr>\n",
       "      <th>precision (macro)</th>\n",
       "      <td>0.794655</td>\n",
       "      <td>0.820940</td>\n",
       "      <td>0.791443</td>\n",
       "      <td>0.727700</td>\n",
       "      <td>0.711408</td>\n",
       "      <td>0.714764</td>\n",
       "      <td>0.281145</td>\n",
       "      <td>0.840286</td>\n",
       "      <td>0.858069</td>\n",
       "      <td>0.750735</td>\n",
       "    </tr>\n",
       "    <tr>\n",
       "      <th>recall (macro)</th>\n",
       "      <td>0.786020</td>\n",
       "      <td>0.675316</td>\n",
       "      <td>0.717409</td>\n",
       "      <td>0.694281</td>\n",
       "      <td>0.714149</td>\n",
       "      <td>0.716788</td>\n",
       "      <td>0.302748</td>\n",
       "      <td>0.472277</td>\n",
       "      <td>0.675403</td>\n",
       "      <td>0.690844</td>\n",
       "    </tr>\n",
       "    <tr>\n",
       "      <th>fscore (macro)</th>\n",
       "      <td>0.790195</td>\n",
       "      <td>0.729277</td>\n",
       "      <td>0.749952</td>\n",
       "      <td>0.709070</td>\n",
       "      <td>0.712714</td>\n",
       "      <td>0.715711</td>\n",
       "      <td>0.291475</td>\n",
       "      <td>0.514868</td>\n",
       "      <td>0.728476</td>\n",
       "      <td>0.713081</td>\n",
       "    </tr>\n",
       "    <tr>\n",
       "      <th>precision (micro)</th>\n",
       "      <td>0.869547</td>\n",
       "      <td>0.838342</td>\n",
       "      <td>0.845881</td>\n",
       "      <td>0.795682</td>\n",
       "      <td>0.797939</td>\n",
       "      <td>0.800321</td>\n",
       "      <td>0.683174</td>\n",
       "      <td>0.745785</td>\n",
       "      <td>0.835998</td>\n",
       "      <td>0.806367</td>\n",
       "    </tr>\n",
       "    <tr>\n",
       "      <th>recall (micro)</th>\n",
       "      <td>0.869547</td>\n",
       "      <td>0.838342</td>\n",
       "      <td>0.845881</td>\n",
       "      <td>0.795682</td>\n",
       "      <td>0.797939</td>\n",
       "      <td>0.800321</td>\n",
       "      <td>0.683174</td>\n",
       "      <td>0.745785</td>\n",
       "      <td>0.835998</td>\n",
       "      <td>0.806367</td>\n",
       "    </tr>\n",
       "    <tr>\n",
       "      <th>fscore (micro)</th>\n",
       "      <td>0.869547</td>\n",
       "      <td>0.838342</td>\n",
       "      <td>0.845881</td>\n",
       "      <td>0.795682</td>\n",
       "      <td>0.797939</td>\n",
       "      <td>0.800321</td>\n",
       "      <td>0.683174</td>\n",
       "      <td>0.745785</td>\n",
       "      <td>0.835998</td>\n",
       "      <td>0.806367</td>\n",
       "    </tr>\n",
       "    <tr>\n",
       "      <th>MCC</th>\n",
       "      <td>0.790433</td>\n",
       "      <td>0.743187</td>\n",
       "      <td>0.750438</td>\n",
       "      <td>0.670192</td>\n",
       "      <td>0.675715</td>\n",
       "      <td>0.679393</td>\n",
       "      <td>0.464566</td>\n",
       "      <td>0.578605</td>\n",
       "      <td>0.732535</td>\n",
       "      <td>0.686682</td>\n",
       "    </tr>\n",
       "  </tbody>\n",
       "</table>\n",
       "</div>"
      ],
      "text/plain": [
       "                   Nearest Neighbors (k=1)  Nearest Neighbors (k=2)  \\\n",
       "precision (macro)                 0.794655                 0.820940   \n",
       "recall (macro)                    0.786020                 0.675316   \n",
       "fscore (macro)                    0.790195                 0.729277   \n",
       "precision (micro)                 0.869547                 0.838342   \n",
       "recall (micro)                    0.869547                 0.838342   \n",
       "fscore (micro)                    0.869547                 0.838342   \n",
       "MCC                               0.790433                 0.743187   \n",
       "\n",
       "                   Nearest Neighbors (k=3)  Decision Tree (Max Depth=20)  \\\n",
       "precision (macro)                 0.791443                      0.727700   \n",
       "recall (macro)                    0.717409                      0.694281   \n",
       "fscore (macro)                    0.749952                      0.709070   \n",
       "precision (micro)                 0.845881                      0.795682   \n",
       "recall (micro)                    0.845881                      0.795682   \n",
       "fscore (micro)                    0.845881                      0.795682   \n",
       "MCC                               0.750438                      0.670192   \n",
       "\n",
       "                   Decision Tree (Max Depth=40)  Decision Tree (Max Depth=60)  \\\n",
       "precision (macro)                      0.711408                      0.714764   \n",
       "recall (macro)                         0.714149                      0.716788   \n",
       "fscore (macro)                         0.712714                      0.715711   \n",
       "precision (micro)                      0.797939                      0.800321   \n",
       "recall (micro)                         0.797939                      0.800321   \n",
       "fscore (micro)                         0.797939                      0.800321   \n",
       "MCC                                    0.675715                      0.679393   \n",
       "\n",
       "                   Random Forest (Max Depth=5)  Random Forest (Max Depth=10)  \\\n",
       "precision (macro)                     0.281145                      0.840286   \n",
       "recall (macro)                        0.302748                      0.472277   \n",
       "fscore (macro)                        0.291475                      0.514868   \n",
       "precision (micro)                     0.683174                      0.745785   \n",
       "recall (micro)                        0.683174                      0.745785   \n",
       "fscore (micro)                        0.683174                      0.745785   \n",
       "MCC                                   0.464566                      0.578605   \n",
       "\n",
       "                   Random Forest (Max Depth=20)  MLP (RelU)  \n",
       "precision (macro)                      0.858069    0.750735  \n",
       "recall (macro)                         0.675403    0.690844  \n",
       "fscore (macro)                         0.728476    0.713081  \n",
       "precision (micro)                      0.835998    0.806367  \n",
       "recall (micro)                         0.835998    0.806367  \n",
       "fscore (micro)                         0.835998    0.806367  \n",
       "MCC                                    0.732535    0.686682  "
      ]
     },
     "execution_count": 35,
     "metadata": {},
     "output_type": "execute_result"
    }
   ],
   "source": [
    "scores_df"
   ]
  },
  {
   "cell_type": "markdown",
   "metadata": {},
   "source": [
    "We observe that 1-Nearest Neighbor clearly performs best overall, with the best values for MCC, F-Score (both micro and macro), recall (both micro and macro), and precision (micro). Only for precision (macro) is slightly lower than for the $2$-Nearest Neighbor model and the Random Forest with Max Depth 10. We also observe that the Decision Tree does not further improve with deeper trees than 20. The Random Forest also performs best with depth 20. The Random Forest performs second best overall. \n",
    "\n",
    "We now compare the confusion matrix of the 1-Nearest Neighbor classifier with the confusion matrix of the Random Forest, with the hope that we may see an indication why the Random Forest does not achieve the same performance as the nearest neighbor algorithm. "
   ]
  },
  {
   "cell_type": "code",
   "execution_count": 43,
   "metadata": {},
   "outputs": [
    {
     "data": {
      "image/png": "[encoded data removed]",
      "text/plain": [
       "<Figure size 864x504 with 4 Axes>"
      ]
     },
     "metadata": {
      "needs_background": "light"
     },
     "output_type": "display_data"
    }
   ],
   "source": [
    "from sklearn.metrics import plot_confusion_matrix\n",
    "\n",
    "fig, axes = plt.subplots(1,2, figsize=(12,7))\n",
    "plot_confusion_matrix(classifiers[0], X_test, Y_test, cmap=plt.cm.Blues, ax=axes[0])\n",
    "plot_confusion_matrix(classifiers[8], X_test, Y_test, cmap=plt.cm.Blues, ax=axes[1])\n",
    "axes[0].set_title(clf_names[0])\n",
    "axes[1].set_title(clf_names[8])\n",
    "plt.show()"
   ]
  },
  {
   "cell_type": "markdown",
   "metadata": {},
   "source": [
    "This detailed view of the performance shows us that the performance difference is mainly due to the classes 5 and 6. For both classes, the 1-Nearest Neighbor is much better than the random forest. For all other classes, the performance is comparable. "
   ]
  }
 ],
 "metadata": {
  "kernelspec": {
   "display_name": "Python 3",
   "language": "python",
   "name": "python3"
  },
  "language_info": {
   "codemirror_mode": {
    "name": "ipython",
    "version": 3
   },
   "file_extension": ".py",
   "mimetype": "text/x-python",
   "name": "python",
   "nbconvert_exporter": "python",
   "pygments_lexer": "ipython3",
   "version": "3.6.9"
  }
 },
 "nbformat": 4,
 "nbformat_minor": 2
}
