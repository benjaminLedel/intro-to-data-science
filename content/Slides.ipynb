{
 "cells": [
  {
   "cell_type": "markdown",
   "metadata": {},
   "source": [
    "# Slides\n",
    "\n",
    "This online book is accompanied by lecture slides created with Microsoft Powerpoint. Because they were created prior to the book version of the contents, the slides are slightly out of sync with the book. If you find inconsistencies and contradictions, [please report them on Github](https://github.com/sherbold/intro-to-data-science/issues). \n",
    "\n",
    "- Introduction: [PDF](slides_pdf/01-Introduction.pdf) / [Powerpoint](slides_pptx/01-Introduction.pptx)\n",
    "- The Process of Data Science Projects: [PDF](slides_pdf/02-Lifecycle.pdf) / [Powerpoint](slides_pptx/02-Lifecycle.pptx)\n",
    "- Data Exploration: [PDF](slides_pdf/03-Data-Exploration.pdf) / [Powerpoint](slides_pptx/03-Data-Exploration.pptx)\n",
    "- Overview of Data Analysis: [PDF](slides_pdf/04-Data-Analysis-Overview.pdf) / [Powerpoint](slides_pptx/04-Data-Analysis-Overview.pptx)\n",
    "- Association Rules: [PDF](slides_pdf/05-Association-Rules.pdf) / [Powerpoint](slides_pptx/05-Association-Rules.pptx)\n",
    "- Clustering: [PDF](slides_pdf/06-Clustering.pdf) / [Powerpoint](slides_pptx/06-Clustering.pptx)\n",
    "- Classification: [PDF](slides_pdf/07-Classification.pdf) / [Powerpoint](slides_pptx/07-Classification.pptx)\n",
    "- Regression: [PDF](slides_pdf/08-Regression.pdf) / [Powerpoint](slides_pptx/08-Regression.pptx)\n",
    "- Time Series Analysis: [PDF](slides_pdf/09-Time-Series-Analysis.pdf) / [Powerpoint](slides_pptx/09-Time-Series-Analysis.pptx)\n",
    "- Text Mining: [PDF](slides_pdf/10-Text Mining.pdf) / [Powerpoint](slides_pptx/10-Text Mining.pptx)\n",
    "- Statistics: [PDF](slides_pdf/11-Statistical-Tests.pdf) / [Powerpoint](slides_pptx/11-Statistical-Tests.pptx)\n",
    "- Big Data Processings: [PDF](slides_pdf/12-BigDataMapReduce.pdf) / [Powerpoint](slides_pptx/12-BigDataMapReduce.pptx)"
   ]
  }
 ],
 "metadata": {
  "kernelspec": {
   "display_name": "Python 3",
   "language": "python",
   "name": "python3"
  },
  "language_info": {
   "codemirror_mode": {
    "name": "ipython",
    "version": 3
   },
   "file_extension": ".py",
   "mimetype": "text/x-python",
   "name": "python",
   "nbconvert_exporter": "python",
   "pygments_lexer": "ipython3",
   "version": "3.8.5"
  }
 },
 "nbformat": 4,
 "nbformat_minor": 2
}
